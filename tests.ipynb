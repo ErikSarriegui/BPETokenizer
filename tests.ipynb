{
 "cells": [
  {
   "cell_type": "code",
   "execution_count": 1,
   "id": "eb3c704f",
   "metadata": {},
   "outputs": [],
   "source": [
    "from BPETokenizer import BPETokenizer, BPETrainer\n",
    "import requests\n",
    "\n",
    "text = requests.get(\"https://babel.upm.es/~angel/teaching/pps/quijote.txt\").text"
   ]
  },
  {
   "cell_type": "code",
   "execution_count": null,
   "id": "daca89cd",
   "metadata": {},
   "outputs": [],
   "source": [
    "trainer = BPETrainer()\n",
    "\n",
    "trainer.train(text = text, vocab_size = 300, verbose = True)"
   ]
  },
  {
   "cell_type": "code",
   "execution_count": 9,
   "id": "c651effe",
   "metadata": {},
   "outputs": [],
   "source": [
    "trainer.save(\"tokenizer\")"
   ]
  },
  {
   "cell_type": "code",
   "execution_count": 2,
   "id": "ab3a543d",
   "metadata": {},
   "outputs": [],
   "source": [
    "tokenizer = BPETokenizer.from_dir(\"tokenizer\")"
   ]
  },
  {
   "cell_type": "code",
   "execution_count": 3,
   "id": "fb747ed0",
   "metadata": {},
   "outputs": [
    {
     "data": {
      "text/plain": [
       "True"
      ]
     },
     "execution_count": 3,
     "metadata": {},
     "output_type": "execute_result"
    }
   ],
   "source": [
    "text = \"Buenos días Dulcinea\"\n",
    "\n",
    "tokenizer.decode(tokenizer.encode(text)) == text"
   ]
  }
 ],
 "metadata": {
  "kernelspec": {
   "display_name": "nlp",
   "language": "python",
   "name": "python3"
  },
  "language_info": {
   "codemirror_mode": {
    "name": "ipython",
    "version": 3
   },
   "file_extension": ".py",
   "mimetype": "text/x-python",
   "name": "python",
   "nbconvert_exporter": "python",
   "pygments_lexer": "ipython3",
   "version": "3.13.5"
  }
 },
 "nbformat": 4,
 "nbformat_minor": 5
}
